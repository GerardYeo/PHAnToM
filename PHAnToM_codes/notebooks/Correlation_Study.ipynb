{
 "cells": [
  {
   "cell_type": "code",
   "execution_count": 6,
   "metadata": {},
   "outputs": [],
   "source": [
    "import pandas as pd\n",
    "import numpy as np\n",
    "import os\n",
    "\n",
    "output_dir = r\"D:\\71 PsychLLM\\outs\"\n",
    "tom_df = pd.read_csv(os.path.join(output_dir, 'fantom','consolidated.csv'))\n",
    "mpi_df = pd.read_csv(os.path.join(output_dir, 'personality','consolidated.csv'))"
   ]
  },
  {
   "cell_type": "code",
   "execution_count": 7,
   "metadata": {},
   "outputs": [
    {
     "data": {
      "text/plain": [
       "Index(['model', 'conversation_input_type', 'inaccessible:set:ALL*',\n",
       "       'inaccessible:set:ALL', 'inaccessible:belief:multiple-choice',\n",
       "       'inaccessible:answerability:binary-f1',\n",
       "       'inaccessible:info_accessibility:binary-f1',\n",
       "       'inaccessible:tom:binary:wrong_reasons:freq', 'filename', 'personality',\n",
       "       'inaccessible:belief:distance', 'inaccessible:belief_true_word-f1',\n",
       "       'inaccessible:answerability:set:ALL', 'inaccessible:answerability:list',\n",
       "       'inaccessible:info_accessibility:set:ALL',\n",
       "       'inaccessible:info_accessibility:list', 'fact_word-f1',\n",
       "       'inaccessible:tom:lists:wrong_reasons:freq', 'inaccessible:first-order',\n",
       "       'inaccessible:second-order', 'inaccessible:second-order:acyclic',\n",
       "       'inaccessible:second-order:cyclic', 'inaccessible:set:ALL_character',\n",
       "       'inaccessible:set:character_answer_consistency'],\n",
       "      dtype='object')"
      ]
     },
     "execution_count": 7,
     "metadata": {},
     "output_type": "execute_result"
    }
   ],
   "source": [
    "tom_df.columns"
   ]
  },
  {
   "cell_type": "code",
   "execution_count": 8,
   "metadata": {},
   "outputs": [
    {
     "data": {
      "text/plain": [
       "array(['falcon-7b-instruct', 'gpt-3.5-turbo-1106', 'Llama-2-7b-chat-hf',\n",
       "       'mistral-instruct', 'zephyr-7b-beta'], dtype=object)"
      ]
     },
     "execution_count": 8,
     "metadata": {},
     "output_type": "execute_result"
    }
   ],
   "source": [
    "mpi_df['model'].unique()"
   ]
  },
  {
   "cell_type": "code",
   "execution_count": 9,
   "metadata": {},
   "outputs": [
    {
     "name": "stdout",
     "output_type": "stream",
     "text": [
      "inaccessible:belief:multiple-choice\n",
      "                            OLS Regression Results                            \n",
      "==============================================================================\n",
      "Dep. Variable:               tom_diff   R-squared:                       0.617\n",
      "Model:                            OLS   Adj. R-squared:                  0.519\n",
      "Method:                 Least Squares   F-statistic:                     6.269\n",
      "Date:                Sat, 10 Feb 2024   Prob (F-statistic):           3.08e-05\n",
      "Time:                        20:37:02   Log-Likelihood:                -59.477\n",
      "No. Observations:                  45   AIC:                             139.0\n",
      "Df Residuals:                      35   BIC:                             157.0\n",
      "Df Model:                           9                                         \n",
      "Covariance Type:            nonrobust                                         \n",
      "============================================================================================\n",
      "                               coef    std err          t      P>|t|      [0.025      0.975]\n",
      "--------------------------------------------------------------------------------------------\n",
      "const                        0.6499      0.407      1.597      0.119      -0.176       1.476\n",
      "A_mean                      -0.6627      0.402     -1.648      0.108      -1.479       0.154\n",
      "C_mean                      -0.8419      0.595     -1.415      0.166      -2.050       0.366\n",
      "E_mean                      -1.1867      0.411     -2.884      0.007      -2.022      -0.351\n",
      "N_mean                      -1.4222      0.447     -3.181      0.003      -2.330      -0.515\n",
      "O_mean                       0.5830      0.737      0.791      0.434      -0.913       2.079\n",
      "model_falcon-7b-instruct    -1.1689      0.530     -2.204      0.034      -2.246      -0.092\n",
      "model_gpt-3.5-turbo-1106    -0.7325      0.690     -1.062      0.296      -2.133       0.668\n",
      "model_mistral-instruct      -0.5900      0.497     -1.188      0.243      -1.598       0.418\n",
      "model_zephyr-7b-beta         1.0967      0.704      1.558      0.128      -0.333       2.526\n",
      "==============================================================================\n",
      "Omnibus:                        9.558   Durbin-Watson:                   2.359\n",
      "Prob(Omnibus):                  0.008   Jarque-Bera (JB):               11.537\n",
      "Skew:                           0.672   Prob(JB):                      0.00312\n",
      "Kurtosis:                       5.085   Cond. No.                         9.28\n",
      "==============================================================================\n",
      "\n",
      "Warnings:\n",
      "[1] Standard Errors assume that the covariance matrix of the errors is correctly specified.\n",
      "inaccessible:answerability:binary-f1\n",
      "                            OLS Regression Results                            \n",
      "==============================================================================\n",
      "Dep. Variable:               tom_diff   R-squared:                       0.575\n",
      "Model:                            OLS   Adj. R-squared:                  0.466\n",
      "Method:                 Least Squares   F-statistic:                     5.268\n",
      "Date:                Sat, 10 Feb 2024   Prob (F-statistic):           0.000151\n",
      "Time:                        20:37:02   Log-Likelihood:                -136.35\n",
      "No. Observations:                  45   AIC:                             292.7\n",
      "Df Residuals:                      35   BIC:                             310.8\n",
      "Df Model:                           9                                         \n",
      "Covariance Type:            nonrobust                                         \n",
      "============================================================================================\n",
      "                               coef    std err          t      P>|t|      [0.025      0.975]\n",
      "--------------------------------------------------------------------------------------------\n",
      "const                       -6.1585      2.247     -2.741      0.010     -10.720      -1.597\n",
      "A_mean                      -0.5459      2.220     -0.246      0.807      -5.053       3.961\n",
      "C_mean                       6.2809      3.284      1.913      0.064      -0.386      12.948\n",
      "E_mean                       8.3092      2.271      3.659      0.001       3.699      12.920\n",
      "N_mean                       9.7038      2.468      3.932      0.000       4.693      14.714\n",
      "O_mean                      -5.1170      4.068     -1.258      0.217     -13.375       3.141\n",
      "model_falcon-7b-instruct    12.0192      2.927      4.106      0.000       6.076      17.962\n",
      "model_gpt-3.5-turbo-1106    14.4077      3.808      3.784      0.001       6.677      22.138\n",
      "model_mistral-instruct       7.6903      2.741      2.805      0.008       2.125      13.255\n",
      "model_zephyr-7b-beta        -3.2384      3.886     -0.833      0.410     -11.128       4.651\n",
      "==============================================================================\n",
      "Omnibus:                        6.001   Durbin-Watson:                   1.849\n",
      "Prob(Omnibus):                  0.050   Jarque-Bera (JB):                4.921\n",
      "Skew:                          -0.611   Prob(JB):                       0.0854\n",
      "Kurtosis:                       4.064   Cond. No.                         9.28\n",
      "==============================================================================\n",
      "\n",
      "Warnings:\n",
      "[1] Standard Errors assume that the covariance matrix of the errors is correctly specified.\n",
      "inaccessible:info_accessibility:binary-f1\n",
      "                            OLS Regression Results                            \n",
      "==============================================================================\n",
      "Dep. Variable:               tom_diff   R-squared:                       0.794\n",
      "Model:                            OLS   Adj. R-squared:                  0.741\n",
      "Method:                 Least Squares   F-statistic:                     15.01\n",
      "Date:                Sat, 10 Feb 2024   Prob (F-statistic):           1.33e-09\n",
      "Time:                        20:37:03   Log-Likelihood:                -77.488\n",
      "No. Observations:                  45   AIC:                             175.0\n",
      "Df Residuals:                      35   BIC:                             193.0\n",
      "Df Model:                           9                                         \n",
      "Covariance Type:            nonrobust                                         \n",
      "============================================================================================\n",
      "                               coef    std err          t      P>|t|      [0.025      0.975]\n",
      "--------------------------------------------------------------------------------------------\n",
      "const                        5.8941      0.607      9.705      0.000       4.661       7.127\n",
      "A_mean                      -1.3395      0.600     -2.232      0.032      -2.558      -0.121\n",
      "C_mean                       1.0428      0.888      1.175      0.248      -0.759       2.845\n",
      "E_mean                      -0.6636      0.614     -1.081      0.287      -1.910       0.583\n",
      "N_mean                       0.4084      0.667      0.612      0.544      -0.946       1.763\n",
      "O_mean                       0.5002      1.100      0.455      0.652      -1.732       2.733\n",
      "model_falcon-7b-instruct    -5.2563      0.791     -6.642      0.000      -6.863      -3.650\n",
      "model_gpt-3.5-turbo-1106    -3.9191      1.029     -3.807      0.001      -6.009      -1.829\n",
      "model_mistral-instruct      -6.4876      0.741     -8.755      0.000      -7.992      -4.983\n",
      "model_zephyr-7b-beta        -6.7618      1.051     -6.436      0.000      -8.895      -4.629\n",
      "==============================================================================\n",
      "Omnibus:                        4.498   Durbin-Watson:                   2.000\n",
      "Prob(Omnibus):                  0.106   Jarque-Bera (JB):                3.940\n",
      "Skew:                           0.335   Prob(JB):                        0.139\n",
      "Kurtosis:                       4.285   Cond. No.                         9.28\n",
      "==============================================================================\n",
      "\n",
      "Warnings:\n",
      "[1] Standard Errors assume that the covariance matrix of the errors is correctly specified.\n"
     ]
    }
   ],
   "source": [
    "import pandas as pd\n",
    "import statsmodels.api as sm\n",
    "\n",
    "\n",
    "models = ['Llama-2-7b-chat-hf', 'mistral-instruct','falcon-7b-instruct', 'zephyr-7b-beta', 'gpt-3.5-turbo-1106']\n",
    "personalities = [\n",
    "    'Agreeableness', 'Conscientiousness', 'Extraversion', 'Machiavellianism', \n",
    "    'Narcissism', 'Neuroticism', 'Openness','Psychopathy', 'Task-Specific'\n",
    "]\n",
    "focus_mpis = ['A_mean', 'C_mean', 'E_mean','N_mean', 'O_mean']\n",
    "base_personality = 'None'\n",
    "\n",
    "for focus_task in ['inaccessible:belief:multiple-choice','inaccessible:answerability:binary-f1','inaccessible:info_accessibility:binary-f1']:\n",
    "\n",
    "    ##### Format table ######\n",
    "    print(focus_task)\n",
    "    \n",
    "    output = []\n",
    "    for focus_model in models:\n",
    "\n",
    "        for focus_personality in personalities:\n",
    "\n",
    "            base_score = tom_df[(tom_df['model']==focus_model) & (tom_df['personality']==base_personality)][focus_task].values[0]\n",
    "            score = tom_df[(tom_df['model']==focus_model) & (tom_df['personality']==focus_personality)][focus_task].values[0]\n",
    "            diff_tom = score-base_score\n",
    "            mpi_scores = []\n",
    "            for mpi in focus_mpis:\n",
    "                base_score = mpi_df[(mpi_df['model']==focus_model) & (mpi_df['personality']==base_personality)][mpi].values[0]\n",
    "                score = mpi_df[(mpi_df['model']==focus_model) & (mpi_df['personality']==focus_personality)][mpi].values[0]\n",
    "                mpi_scores.append(score-base_score)\n",
    "\n",
    "            output.append([focus_model,focus_personality,diff_tom]+mpi_scores)\n",
    "\n",
    "    output = pd.DataFrame(output, columns=['model','personality','tom_diff']+focus_mpis)\n",
    "    \n",
    "    ##### Regressions ######\n",
    "    df = pd.get_dummies(output, columns=['model'], drop_first=True)\n",
    "    X = df.drop(['tom_diff','personality'], axis=1)  # Independent variables\n",
    "    Y = df['tom_diff']               # Dependent variable\n",
    "    X = sm.add_constant(X)\n",
    "    model = sm.OLS(Y, X).fit()\n",
    "    print(model.summary())\n"
   ]
  },
  {
   "cell_type": "code",
   "execution_count": null,
   "metadata": {},
   "outputs": [],
   "source": []
  }
 ],
 "metadata": {
  "kernelspec": {
   "display_name": "Python 3",
   "language": "python",
   "name": "python3"
  },
  "language_info": {
   "codemirror_mode": {
    "name": "ipython",
    "version": 3
   },
   "file_extension": ".py",
   "mimetype": "text/x-python",
   "name": "python",
   "nbconvert_exporter": "python",
   "pygments_lexer": "ipython3",
   "version": "3.7.6"
  }
 },
 "nbformat": 4,
 "nbformat_minor": 4
}
